{
 "cells": [
  {
   "cell_type": "markdown",
   "id": "b49587fc",
   "metadata": {},
   "source": [
    "# Address completeness classification with machine learning techniques\n",
    "Data & AI course, UC Leuven, 2021 Fall\n",
    "### Project supervisors\n",
    "- Tom Magerman\n",
    "- Aimée Lynn Backiel\n",
    "\n",
    "### Project team (Group 4)\n",
    "- Karolis Medekša\n",
    "- Pedro Teixeira Palma Rosa\n",
    "- Hysa Mello de Alcântara\n",
    "- Josep Jacob Chetrit Valdepeñas\n",
    "\n",
    "## Goals\n",
    "The goal if the assignment to implement a address classification into complete/incomplete by incorporating machine learning techniques. The workload can be split into three steps:\n",
    "- extracting data from addresses, that could be used to train an AI model\n",
    "- training an AI model(s)\n",
    "- Evaluate the performance and applicability of model(s)"
   ]
  },
  {
   "cell_type": "markdown",
   "id": "9bd96723",
   "metadata": {},
   "source": [
    "# Logistic Regression Model\n",
    "\n",
    "Logistic Regression is one of the most simple and commonly used Machine Learning algorithms for two-class classification. It is easy to implement and can be used as the baseline for any binary classification problem.\n",
    "\n",
    "And for that reason, we are going to use this model to be compared with the others, to decide which is the best one to use for our problem of classifying addresses."
   ]
  },
  {
   "cell_type": "markdown",
   "id": "ae0d3f54",
   "metadata": {},
   "source": [
    "## Reading the dataset\n",
    "\n",
    "we start by reading the excel file of the various addresses classified as complete or not, in order to use it to train our model."
   ]
  },
  {
   "cell_type": "code",
   "execution_count": 28,
   "id": "994269b5",
   "metadata": {},
   "outputs": [
    {
     "data": {
      "text/html": [
       "<div>\n",
       "<style scoped>\n",
       "    .dataframe tbody tr th:only-of-type {\n",
       "        vertical-align: middle;\n",
       "    }\n",
       "\n",
       "    .dataframe tbody tr th {\n",
       "        vertical-align: top;\n",
       "    }\n",
       "\n",
       "    .dataframe thead th {\n",
       "        text-align: right;\n",
       "    }\n",
       "</style>\n",
       "<table border=\"1\" class=\"dataframe\">\n",
       "  <thead>\n",
       "    <tr style=\"text-align: right;\">\n",
       "      <th></th>\n",
       "      <th>person_id</th>\n",
       "      <th>person_name</th>\n",
       "      <th>person_address</th>\n",
       "      <th>cln1</th>\n",
       "      <th>cln2</th>\n",
       "      <th>cln3</th>\n",
       "      <th>person_ctry_code</th>\n",
       "      <th>cnt</th>\n",
       "      <th>chr_len</th>\n",
       "      <th>chr_len_label</th>\n",
       "      <th>...</th>\n",
       "      <th>street</th>\n",
       "      <th>nr</th>\n",
       "      <th>area</th>\n",
       "      <th>postal</th>\n",
       "      <th>city</th>\n",
       "      <th>region</th>\n",
       "      <th>country</th>\n",
       "      <th>unclear</th>\n",
       "      <th>status</th>\n",
       "      <th>label</th>\n",
       "    </tr>\n",
       "  </thead>\n",
       "  <tbody>\n",
       "    <tr>\n",
       "      <th>0</th>\n",
       "      <td>3540</td>\n",
       "      <td>PURAC Biochem BV</td>\n",
       "      <td>Arkelsedijk 46,4206 AC Gorinchem</td>\n",
       "      <td>Arkelsedijk 46 4206 AC Gorinchem</td>\n",
       "      <td>46 4206</td>\n",
       "      <td>46</td>\n",
       "      <td>NL</td>\n",
       "      <td>1</td>\n",
       "      <td>32</td>\n",
       "      <td>2</td>\n",
       "      <td>...</td>\n",
       "      <td>Arkelsedijk</td>\n",
       "      <td>46</td>\n",
       "      <td></td>\n",
       "      <td>4206 AC</td>\n",
       "      <td>Gorinchem</td>\n",
       "      <td></td>\n",
       "      <td></td>\n",
       "      <td></td>\n",
       "      <td></td>\n",
       "      <td>1</td>\n",
       "    </tr>\n",
       "    <tr>\n",
       "      <th>1</th>\n",
       "      <td>28753</td>\n",
       "      <td>Tinti, Maria Ornella</td>\n",
       "      <td>SIGMA-TAU Industrie Farmaceutiche Riunite S.p....</td>\n",
       "      <td>SIGMA-TAU Industrie Farmaceutiche Riunite S.p....</td>\n",
       "      <td>30 400 00040</td>\n",
       "      <td>30</td>\n",
       "      <td>IT</td>\n",
       "      <td>1</td>\n",
       "      <td>86</td>\n",
       "      <td>1</td>\n",
       "      <td>...</td>\n",
       "      <td>Via Pontina</td>\n",
       "      <td>km 30</td>\n",
       "      <td></td>\n",
       "      <td>400 00040</td>\n",
       "      <td>Pomezia</td>\n",
       "      <td></td>\n",
       "      <td></td>\n",
       "      <td></td>\n",
       "      <td></td>\n",
       "      <td>1</td>\n",
       "    </tr>\n",
       "    <tr>\n",
       "      <th>2</th>\n",
       "      <td>35108</td>\n",
       "      <td>Isobe, Shin-ichi, c/o Int. Prop. Dpt., NTT DoC...</td>\n",
       "      <td>Sanno Park Tower, 11-1, Nagatacho 2-chome,Chiy...</td>\n",
       "      <td>Sanno Park Tower 11-1 Nagatacho 2-chome Chiyod...</td>\n",
       "      <td>111 2</td>\n",
       "      <td>11-</td>\n",
       "      <td>JP</td>\n",
       "      <td>1</td>\n",
       "      <td>59</td>\n",
       "      <td>1</td>\n",
       "      <td>...</td>\n",
       "      <td>Nagatacho 2-chome 11-1</td>\n",
       "      <td></td>\n",
       "      <td>Chiyoda-ku</td>\n",
       "      <td></td>\n",
       "      <td>Tokyo</td>\n",
       "      <td></td>\n",
       "      <td></td>\n",
       "      <td></td>\n",
       "      <td></td>\n",
       "      <td>1</td>\n",
       "    </tr>\n",
       "    <tr>\n",
       "      <th>3</th>\n",
       "      <td>89830</td>\n",
       "      <td>Hata, Yoshiki</td>\n",
       "      <td>c/o Hitachi Appliances, Inc. 390 Muramatsu, Sh...</td>\n",
       "      <td>c/o Hitachi Appliances Inc. 390 Muramatsu Shim...</td>\n",
       "      <td>390 4240926</td>\n",
       "      <td>390</td>\n",
       "      <td>JP</td>\n",
       "      <td>1</td>\n",
       "      <td>90</td>\n",
       "      <td>1</td>\n",
       "      <td>...</td>\n",
       "      <td></td>\n",
       "      <td></td>\n",
       "      <td>Shizuoka-ken</td>\n",
       "      <td>424-0926</td>\n",
       "      <td>Shizuoka-shi, Shimizu-ku</td>\n",
       "      <td>Muramatsu</td>\n",
       "      <td></td>\n",
       "      <td></td>\n",
       "      <td></td>\n",
       "      <td>0</td>\n",
       "    </tr>\n",
       "    <tr>\n",
       "      <th>4</th>\n",
       "      <td>94063</td>\n",
       "      <td>Kim, Se-Jong</td>\n",
       "      <td>Legal &amp; IP Team, Samsung SDI Co., Ltd., 428-5,...</td>\n",
       "      <td>Legal &amp; IP Team Samsung SDI Co. Ltd. 428-5 Gon...</td>\n",
       "      <td>4285</td>\n",
       "      <td>428-</td>\n",
       "      <td>KR</td>\n",
       "      <td>1</td>\n",
       "      <td>92</td>\n",
       "      <td>1</td>\n",
       "      <td>...</td>\n",
       "      <td>428-5</td>\n",
       "      <td></td>\n",
       "      <td>Gongse-ri; Kiheung-eup; Yongin-s</td>\n",
       "      <td></td>\n",
       "      <td>Gyeonggi-do</td>\n",
       "      <td></td>\n",
       "      <td></td>\n",
       "      <td></td>\n",
       "      <td></td>\n",
       "      <td>1</td>\n",
       "    </tr>\n",
       "  </tbody>\n",
       "</table>\n",
       "<p>5 rows × 31 columns</p>\n",
       "</div>"
      ],
      "text/plain": [
       "   person_id                                        person_name  \\\n",
       "0       3540                                   PURAC Biochem BV   \n",
       "1      28753                               Tinti, Maria Ornella   \n",
       "2      35108  Isobe, Shin-ichi, c/o Int. Prop. Dpt., NTT DoC...   \n",
       "3      89830                                      Hata, Yoshiki   \n",
       "4      94063                                       Kim, Se-Jong   \n",
       "\n",
       "                                      person_address  \\\n",
       "0                   Arkelsedijk 46,4206 AC Gorinchem   \n",
       "1  SIGMA-TAU Industrie Farmaceutiche Riunite S.p....   \n",
       "2  Sanno Park Tower, 11-1, Nagatacho 2-chome,Chiy...   \n",
       "3  c/o Hitachi Appliances, Inc. 390 Muramatsu, Sh...   \n",
       "4  Legal & IP Team, Samsung SDI Co., Ltd., 428-5,...   \n",
       "\n",
       "                                                cln1          cln2  cln3  \\\n",
       "0                   Arkelsedijk 46 4206 AC Gorinchem       46 4206    46   \n",
       "1  SIGMA-TAU Industrie Farmaceutiche Riunite S.p....  30 400 00040    30   \n",
       "2  Sanno Park Tower 11-1 Nagatacho 2-chome Chiyod...         111 2   11-   \n",
       "3  c/o Hitachi Appliances Inc. 390 Muramatsu Shim...   390 4240926   390   \n",
       "4  Legal & IP Team Samsung SDI Co. Ltd. 428-5 Gon...          4285  428-   \n",
       "\n",
       "  person_ctry_code  cnt  chr_len  chr_len_label  ...                  street  \\\n",
       "0               NL    1       32              2  ...             Arkelsedijk   \n",
       "1               IT    1       86              1  ...             Via Pontina   \n",
       "2               JP    1       59              1  ...  Nagatacho 2-chome 11-1   \n",
       "3               JP    1       90              1  ...                           \n",
       "4               KR    1       92              1  ...                   428-5   \n",
       "\n",
       "      nr                              area     postal  \\\n",
       "0     46                                      4206 AC   \n",
       "1  km 30                                    400 00040   \n",
       "2                               Chiyoda-ku              \n",
       "3                             Shizuoka-ken   424-0926   \n",
       "4         Gongse-ri; Kiheung-eup; Yongin-s              \n",
       "\n",
       "                        city     region country unclear status label  \n",
       "0                  Gorinchem                                       1  \n",
       "1                    Pomezia                                       1  \n",
       "2                      Tokyo                                       1  \n",
       "3   Shizuoka-shi, Shimizu-ku  Muramatsu                            0  \n",
       "4                Gyeonggi-do                                       1  \n",
       "\n",
       "[5 rows x 31 columns]"
      ]
     },
     "execution_count": 28,
     "metadata": {},
     "output_type": "execute_result"
    }
   ],
   "source": [
    "import pandas as pd\n",
    "from utils import read_DataFrame_from_file\n",
    "from prepare import DATA_INPUT_FILENAME, NUMBER_OF_PARSABLE_RECORDS\n",
    "\n",
    "raw_data = read_DataFrame_from_file(DATA_INPUT_FILENAME, NUMBER_OF_PARSABLE_RECORDS)\n",
    "raw_data.head()"
   ]
  },
  {
   "cell_type": "markdown",
   "id": "f4ee9fd8",
   "metadata": {},
   "source": [
    "## Data Pre-Processing\n",
    "From the previously created prepare.py module with the various functions to process the data, we will process our table so that it only has numerical values so that our model is able to classify it."
   ]
  },
  {
   "cell_type": "code",
   "execution_count": 27,
   "id": "0b302b41",
   "metadata": {},
   "outputs": [
    {
     "data": {
      "text/html": [
       "<div>\n",
       "<style scoped>\n",
       "    .dataframe tbody tr th:only-of-type {\n",
       "        vertical-align: middle;\n",
       "    }\n",
       "\n",
       "    .dataframe tbody tr th {\n",
       "        vertical-align: top;\n",
       "    }\n",
       "\n",
       "    .dataframe thead th {\n",
       "        text-align: right;\n",
       "    }\n",
       "</style>\n",
       "<table border=\"1\" class=\"dataframe\">\n",
       "  <thead>\n",
       "    <tr style=\"text-align: right;\">\n",
       "      <th></th>\n",
       "      <th>length</th>\n",
       "      <th>digit_count</th>\n",
       "      <th>digits_group_count</th>\n",
       "      <th>separated_digits_group_count</th>\n",
       "      <th>token_count</th>\n",
       "      <th>comma_count</th>\n",
       "      <th>comma_separated_entities_having_numbers</th>\n",
       "      <th>comma_separated_entities_having_numbers_near_words</th>\n",
       "      <th>label</th>\n",
       "    </tr>\n",
       "  </thead>\n",
       "  <tbody>\n",
       "    <tr>\n",
       "      <th>0</th>\n",
       "      <td>32</td>\n",
       "      <td>6</td>\n",
       "      <td>2</td>\n",
       "      <td>0</td>\n",
       "      <td>5</td>\n",
       "      <td>1</td>\n",
       "      <td>2</td>\n",
       "      <td>1</td>\n",
       "      <td>1</td>\n",
       "    </tr>\n",
       "    <tr>\n",
       "      <th>1</th>\n",
       "      <td>86</td>\n",
       "      <td>10</td>\n",
       "      <td>3</td>\n",
       "      <td>1</td>\n",
       "      <td>12</td>\n",
       "      <td>4</td>\n",
       "      <td>2</td>\n",
       "      <td>0</td>\n",
       "      <td>1</td>\n",
       "    </tr>\n",
       "    <tr>\n",
       "      <th>2</th>\n",
       "      <td>59</td>\n",
       "      <td>4</td>\n",
       "      <td>3</td>\n",
       "      <td>1</td>\n",
       "      <td>8</td>\n",
       "      <td>4</td>\n",
       "      <td>2</td>\n",
       "      <td>1</td>\n",
       "      <td>1</td>\n",
       "    </tr>\n",
       "    <tr>\n",
       "      <th>3</th>\n",
       "      <td>90</td>\n",
       "      <td>10</td>\n",
       "      <td>3</td>\n",
       "      <td>1</td>\n",
       "      <td>10</td>\n",
       "      <td>4</td>\n",
       "      <td>2</td>\n",
       "      <td>2</td>\n",
       "      <td>0</td>\n",
       "    </tr>\n",
       "    <tr>\n",
       "      <th>4</th>\n",
       "      <td>92</td>\n",
       "      <td>4</td>\n",
       "      <td>2</td>\n",
       "      <td>1</td>\n",
       "      <td>13</td>\n",
       "      <td>7</td>\n",
       "      <td>1</td>\n",
       "      <td>0</td>\n",
       "      <td>1</td>\n",
       "    </tr>\n",
       "  </tbody>\n",
       "</table>\n",
       "</div>"
      ],
      "text/plain": [
       "   length  digit_count  digits_group_count  separated_digits_group_count  \\\n",
       "0      32            6                   2                             0   \n",
       "1      86           10                   3                             1   \n",
       "2      59            4                   3                             1   \n",
       "3      90           10                   3                             1   \n",
       "4      92            4                   2                             1   \n",
       "\n",
       "   token_count  comma_count  comma_separated_entities_having_numbers  \\\n",
       "0            5            1                                        2   \n",
       "1           12            4                                        2   \n",
       "2            8            4                                        2   \n",
       "3           10            4                                        2   \n",
       "4           13            7                                        1   \n",
       "\n",
       "   comma_separated_entities_having_numbers_near_words  label  \n",
       "0                                                  1       1  \n",
       "1                                                  0       1  \n",
       "2                                                  1       1  \n",
       "3                                                  2       0  \n",
       "4                                                  0       1  "
      ]
     },
     "execution_count": 27,
     "metadata": {},
     "output_type": "execute_result"
    }
   ],
   "source": [
    "from prepare import PROPERTY_ADDRESS, enrichDataFrameWithProperties, PROPERTY_LABEL\n",
    "\n",
    "def processData(dataFrame: pd.DataFrame):\n",
    "    \n",
    "    processedData = pd.DataFrame()\n",
    "    processedData[PROPERTY_ADDRESS] = dataFrame['person_address']\n",
    "    enrichDataFrameWithProperties(processedData)\n",
    "    processedData[PROPERTY_LABEL] = dataFrame['label']\n",
    "    \n",
    "    processedData.drop(PROPERTY_ADDRESS, axis=1, inplace=True)\n",
    "    \n",
    "    return processedData\n",
    "\n",
    "\n",
    "addresses = processData(raw_data)\n",
    "addresses.head()"
   ]
  },
  {
   "cell_type": "markdown",
   "id": "3386780c",
   "metadata": {},
   "source": [
    "### Checking for missing values\n",
    "Just to make sure there are no missing values in our dataset, and in case if we have missing values trying to fill them in as an mean of the values for example, but in this case it won't be necessary."
   ]
  },
  {
   "cell_type": "code",
   "execution_count": 26,
   "id": "bf5a3cf6",
   "metadata": {},
   "outputs": [
    {
     "data": {
      "text/plain": [
       "length                                                0\n",
       "digit_count                                           0\n",
       "digits_group_count                                    0\n",
       "separated_digits_group_count                          0\n",
       "token_count                                           0\n",
       "comma_count                                           0\n",
       "comma_separated_entities_having_numbers               0\n",
       "comma_separated_entities_having_numbers_near_words    0\n",
       "label                                                 0\n",
       "dtype: int64"
      ]
     },
     "execution_count": 26,
     "metadata": {},
     "output_type": "execute_result"
    }
   ],
   "source": [
    "addresses.isnull().sum()"
   ]
  },
  {
   "cell_type": "markdown",
   "id": "bbf0d1ac",
   "metadata": {},
   "source": [
    "## Generalized Data Analysis of the dataset\n",
    "Let's do a little analysis of our dataset just to get an idea of how many columns and rows there are, what types our features are, and a little statistical analysis of them."
   ]
  },
  {
   "cell_type": "markdown",
   "id": "7a0440f7",
   "metadata": {},
   "source": [
    "### 1. Number of rows and columns of train set\n",
    "We can see that there are 999 rows and 9 columns"
   ]
  },
  {
   "cell_type": "code",
   "execution_count": 25,
   "id": "8a267caf",
   "metadata": {},
   "outputs": [
    {
     "data": {
      "text/plain": [
       "(999, 9)"
      ]
     },
     "execution_count": 25,
     "metadata": {},
     "output_type": "execute_result"
    }
   ],
   "source": [
    "addresses.shape"
   ]
  },
  {
   "cell_type": "markdown",
   "id": "b103ef7a",
   "metadata": {},
   "source": [
    "### 2. Dataset info\n",
    "We can see all the features we have and that they are all of the integer type"
   ]
  },
  {
   "cell_type": "code",
   "execution_count": 24,
   "id": "2b098513",
   "metadata": {},
   "outputs": [
    {
     "name": "stdout",
     "output_type": "stream",
     "text": [
      "<class 'pandas.core.frame.DataFrame'>\n",
      "RangeIndex: 999 entries, 0 to 998\n",
      "Data columns (total 9 columns):\n",
      " #   Column                                              Non-Null Count  Dtype\n",
      "---  ------                                              --------------  -----\n",
      " 0   length                                              999 non-null    int64\n",
      " 1   digit_count                                         999 non-null    int64\n",
      " 2   digits_group_count                                  999 non-null    int64\n",
      " 3   separated_digits_group_count                        999 non-null    int64\n",
      " 4   token_count                                         999 non-null    int64\n",
      " 5   comma_count                                         999 non-null    int64\n",
      " 6   comma_separated_entities_having_numbers             999 non-null    int64\n",
      " 7   comma_separated_entities_having_numbers_near_words  999 non-null    int64\n",
      " 8   label                                               999 non-null    int64\n",
      "dtypes: int64(9)\n",
      "memory usage: 70.4 KB\n"
     ]
    }
   ],
   "source": [
    "addresses.info()"
   ]
  },
  {
   "cell_type": "markdown",
   "id": "1e8be26c",
   "metadata": {},
   "source": [
    "### 3. Data Description\n",
    "And we can see various statistical properties of each feature like the mean and the percentiles."
   ]
  },
  {
   "cell_type": "code",
   "execution_count": 23,
   "id": "55c3b7af",
   "metadata": {},
   "outputs": [
    {
     "data": {
      "text/html": [
       "<div>\n",
       "<style scoped>\n",
       "    .dataframe tbody tr th:only-of-type {\n",
       "        vertical-align: middle;\n",
       "    }\n",
       "\n",
       "    .dataframe tbody tr th {\n",
       "        vertical-align: top;\n",
       "    }\n",
       "\n",
       "    .dataframe thead th {\n",
       "        text-align: right;\n",
       "    }\n",
       "</style>\n",
       "<table border=\"1\" class=\"dataframe\">\n",
       "  <thead>\n",
       "    <tr style=\"text-align: right;\">\n",
       "      <th></th>\n",
       "      <th>length</th>\n",
       "      <th>digit_count</th>\n",
       "      <th>digits_group_count</th>\n",
       "      <th>separated_digits_group_count</th>\n",
       "      <th>token_count</th>\n",
       "      <th>comma_count</th>\n",
       "      <th>comma_separated_entities_having_numbers</th>\n",
       "      <th>comma_separated_entities_having_numbers_near_words</th>\n",
       "      <th>label</th>\n",
       "    </tr>\n",
       "  </thead>\n",
       "  <tbody>\n",
       "    <tr>\n",
       "      <th>count</th>\n",
       "      <td>999.000000</td>\n",
       "      <td>999.000000</td>\n",
       "      <td>999.000000</td>\n",
       "      <td>999.000000</td>\n",
       "      <td>999.000000</td>\n",
       "      <td>999.000000</td>\n",
       "      <td>999.000000</td>\n",
       "      <td>999.000000</td>\n",
       "      <td>999.000000</td>\n",
       "    </tr>\n",
       "    <tr>\n",
       "      <th>mean</th>\n",
       "      <td>32.092092</td>\n",
       "      <td>3.982983</td>\n",
       "      <td>1.369369</td>\n",
       "      <td>0.255255</td>\n",
       "      <td>4.703704</td>\n",
       "      <td>1.328328</td>\n",
       "      <td>1.026026</td>\n",
       "      <td>0.660661</td>\n",
       "      <td>0.470470</td>\n",
       "    </tr>\n",
       "    <tr>\n",
       "      <th>std</th>\n",
       "      <td>26.633592</td>\n",
       "      <td>4.386022</td>\n",
       "      <td>1.556132</td>\n",
       "      <td>0.574953</td>\n",
       "      <td>3.758530</td>\n",
       "      <td>1.429123</td>\n",
       "      <td>1.087054</td>\n",
       "      <td>0.825425</td>\n",
       "      <td>0.499377</td>\n",
       "    </tr>\n",
       "    <tr>\n",
       "      <th>min</th>\n",
       "      <td>2.000000</td>\n",
       "      <td>0.000000</td>\n",
       "      <td>0.000000</td>\n",
       "      <td>0.000000</td>\n",
       "      <td>1.000000</td>\n",
       "      <td>0.000000</td>\n",
       "      <td>0.000000</td>\n",
       "      <td>0.000000</td>\n",
       "      <td>0.000000</td>\n",
       "    </tr>\n",
       "    <tr>\n",
       "      <th>25%</th>\n",
       "      <td>10.000000</td>\n",
       "      <td>0.000000</td>\n",
       "      <td>0.000000</td>\n",
       "      <td>0.000000</td>\n",
       "      <td>1.000000</td>\n",
       "      <td>0.000000</td>\n",
       "      <td>0.000000</td>\n",
       "      <td>0.000000</td>\n",
       "      <td>0.000000</td>\n",
       "    </tr>\n",
       "    <tr>\n",
       "      <th>50%</th>\n",
       "      <td>29.000000</td>\n",
       "      <td>3.000000</td>\n",
       "      <td>1.000000</td>\n",
       "      <td>0.000000</td>\n",
       "      <td>4.000000</td>\n",
       "      <td>1.000000</td>\n",
       "      <td>1.000000</td>\n",
       "      <td>0.000000</td>\n",
       "      <td>0.000000</td>\n",
       "    </tr>\n",
       "    <tr>\n",
       "      <th>75%</th>\n",
       "      <td>47.000000</td>\n",
       "      <td>7.000000</td>\n",
       "      <td>2.000000</td>\n",
       "      <td>0.000000</td>\n",
       "      <td>7.000000</td>\n",
       "      <td>2.000000</td>\n",
       "      <td>2.000000</td>\n",
       "      <td>1.000000</td>\n",
       "      <td>1.000000</td>\n",
       "    </tr>\n",
       "    <tr>\n",
       "      <th>max</th>\n",
       "      <td>164.000000</td>\n",
       "      <td>19.000000</td>\n",
       "      <td>6.000000</td>\n",
       "      <td>3.000000</td>\n",
       "      <td>20.000000</td>\n",
       "      <td>7.000000</td>\n",
       "      <td>6.000000</td>\n",
       "      <td>3.000000</td>\n",
       "      <td>1.000000</td>\n",
       "    </tr>\n",
       "  </tbody>\n",
       "</table>\n",
       "</div>"
      ],
      "text/plain": [
       "           length  digit_count  digits_group_count  \\\n",
       "count  999.000000   999.000000          999.000000   \n",
       "mean    32.092092     3.982983            1.369369   \n",
       "std     26.633592     4.386022            1.556132   \n",
       "min      2.000000     0.000000            0.000000   \n",
       "25%     10.000000     0.000000            0.000000   \n",
       "50%     29.000000     3.000000            1.000000   \n",
       "75%     47.000000     7.000000            2.000000   \n",
       "max    164.000000    19.000000            6.000000   \n",
       "\n",
       "       separated_digits_group_count  token_count  comma_count  \\\n",
       "count                    999.000000   999.000000   999.000000   \n",
       "mean                       0.255255     4.703704     1.328328   \n",
       "std                        0.574953     3.758530     1.429123   \n",
       "min                        0.000000     1.000000     0.000000   \n",
       "25%                        0.000000     1.000000     0.000000   \n",
       "50%                        0.000000     4.000000     1.000000   \n",
       "75%                        0.000000     7.000000     2.000000   \n",
       "max                        3.000000    20.000000     7.000000   \n",
       "\n",
       "       comma_separated_entities_having_numbers  \\\n",
       "count                               999.000000   \n",
       "mean                                  1.026026   \n",
       "std                                   1.087054   \n",
       "min                                   0.000000   \n",
       "25%                                   0.000000   \n",
       "50%                                   1.000000   \n",
       "75%                                   2.000000   \n",
       "max                                   6.000000   \n",
       "\n",
       "       comma_separated_entities_having_numbers_near_words       label  \n",
       "count                                         999.000000   999.000000  \n",
       "mean                                            0.660661     0.470470  \n",
       "std                                             0.825425     0.499377  \n",
       "min                                             0.000000     0.000000  \n",
       "25%                                             0.000000     0.000000  \n",
       "50%                                             0.000000     0.000000  \n",
       "75%                                             1.000000     1.000000  \n",
       "max                                             3.000000     1.000000  "
      ]
     },
     "execution_count": 23,
     "metadata": {},
     "output_type": "execute_result"
    }
   ],
   "source": [
    "addresses.describe()"
   ]
  },
  {
   "cell_type": "markdown",
   "id": "c611ab39",
   "metadata": {},
   "source": [
    "## Feature Selection of the addresses\n",
    "Now that we've seen what all the features we have, we need to choose the best ones if necessary and eliminate the worst ones to avoid overfitting. And for that, let's start by using a correlation matrix."
   ]
  },
  {
   "cell_type": "markdown",
   "id": "b9ef0365",
   "metadata": {},
   "source": [
    "### 1. Correlation Matrix with Heatmap\n",
    "Correlation states how the features are related to each other.\n",
    "Correlation can be positive (increase in one value of feature increases the value of the other variable) or negative (increase in one value of feature decreases the value of the other variable)\n",
    "Heatmap makes it easy to identify which features are most related to each other, we will plot heatmap of correlated features using the seaborn library.\n",
    "And in the matrix we can see how length and token_count have a very strong correlation, which makes sense because if the length of the addresses is large, the amount of tokens will obviously be higher."
   ]
  },
  {
   "cell_type": "code",
   "execution_count": 61,
   "id": "80cde5bb",
   "metadata": {},
   "outputs": [
    {
     "data": {
      "text/plain": [
       "<AxesSubplot:>"
      ]
     },
     "execution_count": 61,
     "metadata": {},
     "output_type": "execute_result"
    },
    {
     "data": {
      "image/png": "[encoded data removed]",
      "text/plain": [
       "<Figure size 1440x1440 with 2 Axes>"
      ]
     },
     "metadata": {
      "needs_background": "light"
     },
     "output_type": "display_data"
    }
   ],
   "source": [
    "import seaborn as sns\n",
    "import matplotlib.pyplot as plt\n",
    "\n",
    "data = addresses.drop('label', axis=1)\n",
    "X = data.iloc[:,0:20]  #independent columns\n",
    "y = data.iloc[:,-1]    #target column i.e price range\n",
    "\n",
    "#get correlations of each features in dataset\n",
    "corrmat = data.corr()\n",
    "top_corr_features = corrmat.index\n",
    "plt.figure(figsize=(20,20))\n",
    "\n",
    "#plot heat map\n",
    "sns.heatmap(data[top_corr_features].corr(),annot=True,cmap=\"RdYlGn\")"
   ]
  },
  {
   "cell_type": "markdown",
   "id": "3ab762d1",
   "metadata": {},
   "source": [
    "### 2. Univariate Selection\n",
    "Statistical tests can be used to select those features that have the strongest relationship with the output variable.\n",
    "The scikit-learn library provides the SelectKBest class that can be used with a suite of different statistical tests to select a specific number of features.\n",
    "The example below uses the chi-squared (chi²) statistical test for non-negative features to select 10 of the best features from the addresses Dataset.\n",
    "And as we can see the two best features are length and number of digits. But as we also observed in the correlation matrix that length and token_count are strongly related and token_count being considered the third best feature, the choice of features to use in this model will be length, digit_count and token_count."
   ]
  },
  {
   "cell_type": "code",
   "execution_count": 62,
   "id": "ea0ead35",
   "metadata": {},
   "outputs": [
    {
     "data": {
      "text/html": [
       "<div>\n",
       "<style scoped>\n",
       "    .dataframe tbody tr th:only-of-type {\n",
       "        vertical-align: middle;\n",
       "    }\n",
       "\n",
       "    .dataframe tbody tr th {\n",
       "        vertical-align: top;\n",
       "    }\n",
       "\n",
       "    .dataframe thead th {\n",
       "        text-align: right;\n",
       "    }\n",
       "</style>\n",
       "<table border=\"1\" class=\"dataframe\">\n",
       "  <thead>\n",
       "    <tr style=\"text-align: right;\">\n",
       "      <th></th>\n",
       "      <th>Specs</th>\n",
       "      <th>Score</th>\n",
       "    </tr>\n",
       "  </thead>\n",
       "  <tbody>\n",
       "    <tr>\n",
       "      <th>0</th>\n",
       "      <td>length</td>\n",
       "      <td>9935.521924</td>\n",
       "    </tr>\n",
       "    <tr>\n",
       "      <th>1</th>\n",
       "      <td>digit_count</td>\n",
       "      <td>3228.015716</td>\n",
       "    </tr>\n",
       "    <tr>\n",
       "      <th>4</th>\n",
       "      <td>token_count</td>\n",
       "      <td>1447.230852</td>\n",
       "    </tr>\n",
       "    <tr>\n",
       "      <th>2</th>\n",
       "      <td>digits_group_count</td>\n",
       "      <td>1084.668531</td>\n",
       "    </tr>\n",
       "    <tr>\n",
       "      <th>7</th>\n",
       "      <td>comma_separated_entities_having_numbers_near_w...</td>\n",
       "      <td>1029.218182</td>\n",
       "    </tr>\n",
       "    <tr>\n",
       "      <th>6</th>\n",
       "      <td>comma_separated_entities_having_numbers</td>\n",
       "      <td>853.300421</td>\n",
       "    </tr>\n",
       "    <tr>\n",
       "      <th>5</th>\n",
       "      <td>comma_count</td>\n",
       "      <td>451.254931</td>\n",
       "    </tr>\n",
       "  </tbody>\n",
       "</table>\n",
       "</div>"
      ],
      "text/plain": [
       "                                               Specs        Score\n",
       "0                                             length  9935.521924\n",
       "1                                        digit_count  3228.015716\n",
       "4                                        token_count  1447.230852\n",
       "2                                 digits_group_count  1084.668531\n",
       "7  comma_separated_entities_having_numbers_near_w...  1029.218182\n",
       "6            comma_separated_entities_having_numbers   853.300421\n",
       "5                                        comma_count   451.254931"
      ]
     },
     "execution_count": 62,
     "metadata": {},
     "output_type": "execute_result"
    }
   ],
   "source": [
    "import numpy as np\n",
    "from sklearn.feature_selection import SelectKBest\n",
    "from sklearn.feature_selection import chi2\n",
    "\n",
    "data = addresses.drop('label', axis=1)\n",
    "X = data.iloc[:,0:20]  # independent columns\n",
    "y = data.iloc[:,-1]    # target column i.e length\n",
    "\n",
    "# apply SelectKBest class to extract top 7 best features\n",
    "bestfeatures = SelectKBest(score_func=chi2, k='all')\n",
    "fit = bestfeatures.fit(X,y)\n",
    "dfscores = pd.DataFrame(fit.scores_)\n",
    "dfcolumns = pd.DataFrame(X.columns)\n",
    "\n",
    "# concat two dataframes for better visualization \n",
    "featureScores = pd.concat([dfcolumns,dfscores],axis=1)\n",
    "featureScores.columns = ['Specs','Score']  # naming the dataframe columns\n",
    "featureScores.nlargest(7,'Score')  # print 7 best features"
   ]
  },
  {
   "cell_type": "markdown",
   "id": "00d73c19",
   "metadata": {},
   "source": [
    "## Exploratory Data Analysis of each chosen feature\n",
    "And to see how each feature is distributed and how they are related to each other, let's do a little analysis of each one."
   ]
  },
  {
   "cell_type": "markdown",
   "id": "dbdedc1e",
   "metadata": {},
   "source": [
    "### 1. Analysis of length feature\n"
   ]
  },
  {
   "cell_type": "markdown",
   "id": "4b4d3bc4",
   "metadata": {},
   "source": [
    "#### 1. Length distribution\n",
    "The histogram below shows the distribution of string lengths that contain each address between 0 and 160 characters.\n",
    "And we can see that it has a linear distribution with a negative slope where longer strings are less frequent than shorter strings. So as we can see small addresses between 0 and 20 exist in a large amount in the dataset."
   ]
  },
  {
   "cell_type": "code",
   "execution_count": 11,
   "id": "58df5eec",
   "metadata": {},
   "outputs": [
    {
     "data": {
      "text/plain": [
       "<AxesSubplot:>"
      ]
     },
     "execution_count": 11,
     "metadata": {},
     "output_type": "execute_result"
    },
    {
     "data": {
      "image/png": "[encoded data removed]",
      "text/plain": [
       "<Figure size 432x288 with 1 Axes>"
      ]
     },
     "metadata": {
      "needs_background": "light"
     },
     "output_type": "display_data"
    }
   ],
   "source": [
    "addresses.length.hist()"
   ]
  },
  {
   "cell_type": "markdown",
   "id": "4e5e795d",
   "metadata": {},
   "source": [
    "#### 2. Length group which is more likely to be completed\n",
    "And interestingly, we can see that the longest strings have the highest probability of being complete, even if they are the ones that exist in the smallest amount, because we can see that the regression line shows a positive correlation."
   ]
  },
  {
   "cell_type": "code",
   "execution_count": 57,
   "id": "e5e3c5a5",
   "metadata": {},
   "outputs": [
    {
     "data": {
      "text/plain": [
       "<seaborn.axisgrid.FacetGrid at 0x15bc9f117c0>"
      ]
     },
     "execution_count": 57,
     "metadata": {},
     "output_type": "execute_result"
    },
    {
     "data": {
      "image/png": "[encoded data removed]",
      "text/plain": [
       "<Figure size 360x360 with 1 Axes>"
      ]
     },
     "metadata": {
      "needs_background": "light"
     },
     "output_type": "display_data"
    }
   ],
   "source": [
    "sns.lmplot(x='length',y='label',data=addresses)"
   ]
  },
  {
   "cell_type": "markdown",
   "id": "ba0d40b4",
   "metadata": {},
   "source": [
    "### 2. Analysis of digit_count feature"
   ]
  },
  {
   "cell_type": "markdown",
   "id": "e261980c",
   "metadata": {},
   "source": [
    "#### 1. Count of addresses based of digit_count feature\n",
    "The chart below shows the address count grouped by number of digits. We can see that most addresses do not even have digits, but addresses that have digits have a normal distribution, with an average around 8. That is, addresses with digits on average have around 8 digits."
   ]
  },
  {
   "cell_type": "code",
   "execution_count": 32,
   "id": "14342e75",
   "metadata": {},
   "outputs": [
    {
     "data": {
      "text/plain": [
       "0     481\n",
       "7      91\n",
       "6      73\n",
       "9      62\n",
       "8      55\n",
       "10     53\n",
       "5      46\n",
       "11     30\n",
       "3      25\n",
       "4      25\n",
       "12     17\n",
       "13      9\n",
       "2       9\n",
       "16      7\n",
       "1       4\n",
       "15      4\n",
       "14      4\n",
       "17      3\n",
       "19      1\n",
       "Name: digit_count, dtype: int64"
      ]
     },
     "execution_count": 32,
     "metadata": {},
     "output_type": "execute_result"
    },
    {
     "data": {
      "image/png": "[encoded data removed]",
      "text/plain": [
       "<Figure size 432x288 with 1 Axes>"
      ]
     },
     "metadata": {
      "needs_background": "light"
     },
     "output_type": "display_data"
    }
   ],
   "source": [
    "sns.countplot(x='digit_count', data=addresses)\n",
    "addresses['digit_count'].value_counts()"
   ]
  },
  {
   "cell_type": "markdown",
   "id": "30907add",
   "metadata": {},
   "source": [
    "#### 2. Percentage of addresses completed grouped by digit_count\n",
    "The graph below shows the effect of the number of digits on the rate of the address being completed. The number of digits where it is 0, we can see that its probability of being complete is 0, the cause of this is that it usually has at least one digit in the addresses, either as part of the street or part of a zip code, for that if there is no digit, it is very likely that there is no street or postal code written, ie the address is likely to be incomplete."
   ]
  },
  {
   "cell_type": "code",
   "execution_count": 31,
   "id": "d906f121",
   "metadata": {},
   "outputs": [
    {
     "data": {
      "text/html": [
       "<div>\n",
       "<style scoped>\n",
       "    .dataframe tbody tr th:only-of-type {\n",
       "        vertical-align: middle;\n",
       "    }\n",
       "\n",
       "    .dataframe tbody tr th {\n",
       "        vertical-align: top;\n",
       "    }\n",
       "\n",
       "    .dataframe thead th {\n",
       "        text-align: right;\n",
       "    }\n",
       "</style>\n",
       "<table border=\"1\" class=\"dataframe\">\n",
       "  <thead>\n",
       "    <tr style=\"text-align: right;\">\n",
       "      <th></th>\n",
       "      <th>digit_count</th>\n",
       "      <th>label</th>\n",
       "    </tr>\n",
       "  </thead>\n",
       "  <tbody>\n",
       "    <tr>\n",
       "      <th>0</th>\n",
       "      <td>0</td>\n",
       "      <td>0.000000</td>\n",
       "    </tr>\n",
       "    <tr>\n",
       "      <th>1</th>\n",
       "      <td>1</td>\n",
       "      <td>0.750000</td>\n",
       "    </tr>\n",
       "    <tr>\n",
       "      <th>2</th>\n",
       "      <td>2</td>\n",
       "      <td>0.666667</td>\n",
       "    </tr>\n",
       "    <tr>\n",
       "      <th>3</th>\n",
       "      <td>3</td>\n",
       "      <td>0.760000</td>\n",
       "    </tr>\n",
       "    <tr>\n",
       "      <th>4</th>\n",
       "      <td>4</td>\n",
       "      <td>0.920000</td>\n",
       "    </tr>\n",
       "    <tr>\n",
       "      <th>5</th>\n",
       "      <td>5</td>\n",
       "      <td>0.782609</td>\n",
       "    </tr>\n",
       "    <tr>\n",
       "      <th>6</th>\n",
       "      <td>6</td>\n",
       "      <td>0.931507</td>\n",
       "    </tr>\n",
       "    <tr>\n",
       "      <th>7</th>\n",
       "      <td>7</td>\n",
       "      <td>0.945055</td>\n",
       "    </tr>\n",
       "    <tr>\n",
       "      <th>8</th>\n",
       "      <td>8</td>\n",
       "      <td>0.945455</td>\n",
       "    </tr>\n",
       "    <tr>\n",
       "      <th>9</th>\n",
       "      <td>9</td>\n",
       "      <td>0.951613</td>\n",
       "    </tr>\n",
       "    <tr>\n",
       "      <th>10</th>\n",
       "      <td>10</td>\n",
       "      <td>0.943396</td>\n",
       "    </tr>\n",
       "    <tr>\n",
       "      <th>11</th>\n",
       "      <td>11</td>\n",
       "      <td>0.900000</td>\n",
       "    </tr>\n",
       "    <tr>\n",
       "      <th>12</th>\n",
       "      <td>12</td>\n",
       "      <td>0.882353</td>\n",
       "    </tr>\n",
       "    <tr>\n",
       "      <th>13</th>\n",
       "      <td>13</td>\n",
       "      <td>0.777778</td>\n",
       "    </tr>\n",
       "    <tr>\n",
       "      <th>14</th>\n",
       "      <td>14</td>\n",
       "      <td>1.000000</td>\n",
       "    </tr>\n",
       "    <tr>\n",
       "      <th>15</th>\n",
       "      <td>15</td>\n",
       "      <td>1.000000</td>\n",
       "    </tr>\n",
       "    <tr>\n",
       "      <th>16</th>\n",
       "      <td>16</td>\n",
       "      <td>1.000000</td>\n",
       "    </tr>\n",
       "    <tr>\n",
       "      <th>17</th>\n",
       "      <td>17</td>\n",
       "      <td>1.000000</td>\n",
       "    </tr>\n",
       "    <tr>\n",
       "      <th>18</th>\n",
       "      <td>19</td>\n",
       "      <td>1.000000</td>\n",
       "    </tr>\n",
       "  </tbody>\n",
       "</table>\n",
       "</div>"
      ],
      "text/plain": [
       "    digit_count     label\n",
       "0             0  0.000000\n",
       "1             1  0.750000\n",
       "2             2  0.666667\n",
       "3             3  0.760000\n",
       "4             4  0.920000\n",
       "5             5  0.782609\n",
       "6             6  0.931507\n",
       "7             7  0.945055\n",
       "8             8  0.945455\n",
       "9             9  0.951613\n",
       "10           10  0.943396\n",
       "11           11  0.900000\n",
       "12           12  0.882353\n",
       "13           13  0.777778\n",
       "14           14  1.000000\n",
       "15           15  1.000000\n",
       "16           16  1.000000\n",
       "17           17  1.000000\n",
       "18           19  1.000000"
      ]
     },
     "execution_count": 31,
     "metadata": {},
     "output_type": "execute_result"
    },
    {
     "data": {
      "image/png": "[encoded data removed]",
      "text/plain": [
       "<Figure size 432x288 with 1 Axes>"
      ]
     },
     "metadata": {
      "needs_background": "light"
     },
     "output_type": "display_data"
    }
   ],
   "source": [
    "sns.barplot(x='digit_count',y='label',data=addresses)\n",
    "addresses.groupby('digit_count',as_index=False).label.mean()"
   ]
  },
  {
   "cell_type": "markdown",
   "id": "9be4e2a7",
   "metadata": {},
   "source": [
    "#### 3. Count of addresses completed based on digits_count\n",
    "And obviously the chart below shows that among the addresses that are incomplete, most of them had no digit at all. But we can conlcude that having at least one digit increases drastically its probability of being a complete address. "
   ]
  },
  {
   "cell_type": "code",
   "execution_count": 39,
   "id": "11f6a555",
   "metadata": {},
   "outputs": [
    {
     "data": {
      "image/png": "[encoded data removed]",
      "text/plain": [
       "<Figure size 432x288 with 1 Axes>"
      ]
     },
     "metadata": {
      "needs_background": "light"
     },
     "output_type": "display_data"
    }
   ],
   "source": [
    "g = sns.countplot(x='label', hue='digit_count', data=addresses)\n",
    "g.legend_.remove()"
   ]
  },
  {
   "cell_type": "markdown",
   "id": "c1d7101e",
   "metadata": {},
   "source": [
    "### 3. Analysis of token_count feature"
   ]
  },
  {
   "cell_type": "markdown",
   "id": "127c8b2f",
   "metadata": {},
   "source": [
    "#### 1. Count of addresses based of token_count feature\n",
    "We can see in the chart below that the vast majority of addresses only have one or two tokens, quite possibly they are the addresses that only indicate the city, but we can also see, if we exclude addresses that only have two tokens or less, that they have a normal distribution with a possible average around 7 or 8, that is, on average the addresses have around 7 or 8 tokens."
   ]
  },
  {
   "cell_type": "code",
   "execution_count": 52,
   "id": "b160bf0d",
   "metadata": {},
   "outputs": [
    {
     "data": {
      "text/plain": [
       "1     288\n",
       "2     155\n",
       "6      92\n",
       "7      79\n",
       "8      78\n",
       "5      57\n",
       "4      50\n",
       "9      43\n",
       "3      43\n",
       "11     35\n",
       "10     27\n",
       "12     19\n",
       "13     13\n",
       "14      6\n",
       "15      4\n",
       "18      3\n",
       "16      3\n",
       "17      2\n",
       "19      1\n",
       "20      1\n",
       "Name: token_count, dtype: int64"
      ]
     },
     "execution_count": 52,
     "metadata": {},
     "output_type": "execute_result"
    },
    {
     "data": {
      "image/png": "[encoded data removed]",
      "text/plain": [
       "<Figure size 432x288 with 1 Axes>"
      ]
     },
     "metadata": {
      "needs_background": "light"
     },
     "output_type": "display_data"
    }
   ],
   "source": [
    "sns.countplot(x='token_count', data=addresses)\n",
    "addresses['token_count'].value_counts()"
   ]
  },
  {
   "cell_type": "markdown",
   "id": "c1e6f91b",
   "metadata": {},
   "source": [
    "#### 2. Percentage of addresses completed grouped by token_count\n",
    "We can see in the chart below, that having 3 or less tokens the probability of the address being complete is practically zero, this is because with 3 or less tokens it is only possible for the address to be constituted only by the name of the city. But as long as you have at least 4 tokens the probability of being complete seems to be evenly distributed, around 90%, regardless of the number of tokens."
   ]
  },
  {
   "cell_type": "code",
   "execution_count": 54,
   "id": "71d2dba1",
   "metadata": {},
   "outputs": [
    {
     "data": {
      "text/html": [
       "<div>\n",
       "<style scoped>\n",
       "    .dataframe tbody tr th:only-of-type {\n",
       "        vertical-align: middle;\n",
       "    }\n",
       "\n",
       "    .dataframe tbody tr th {\n",
       "        vertical-align: top;\n",
       "    }\n",
       "\n",
       "    .dataframe thead th {\n",
       "        text-align: right;\n",
       "    }\n",
       "</style>\n",
       "<table border=\"1\" class=\"dataframe\">\n",
       "  <thead>\n",
       "    <tr style=\"text-align: right;\">\n",
       "      <th></th>\n",
       "      <th>token_count</th>\n",
       "      <th>label</th>\n",
       "    </tr>\n",
       "  </thead>\n",
       "  <tbody>\n",
       "    <tr>\n",
       "      <th>0</th>\n",
       "      <td>1</td>\n",
       "      <td>0.000000</td>\n",
       "    </tr>\n",
       "    <tr>\n",
       "      <th>1</th>\n",
       "      <td>2</td>\n",
       "      <td>0.000000</td>\n",
       "    </tr>\n",
       "    <tr>\n",
       "      <th>2</th>\n",
       "      <td>3</td>\n",
       "      <td>0.023256</td>\n",
       "    </tr>\n",
       "    <tr>\n",
       "      <th>3</th>\n",
       "      <td>4</td>\n",
       "      <td>0.980000</td>\n",
       "    </tr>\n",
       "    <tr>\n",
       "      <th>4</th>\n",
       "      <td>5</td>\n",
       "      <td>0.929825</td>\n",
       "    </tr>\n",
       "    <tr>\n",
       "      <th>5</th>\n",
       "      <td>6</td>\n",
       "      <td>0.858696</td>\n",
       "    </tr>\n",
       "    <tr>\n",
       "      <th>6</th>\n",
       "      <td>7</td>\n",
       "      <td>0.911392</td>\n",
       "    </tr>\n",
       "    <tr>\n",
       "      <th>7</th>\n",
       "      <td>8</td>\n",
       "      <td>0.923077</td>\n",
       "    </tr>\n",
       "    <tr>\n",
       "      <th>8</th>\n",
       "      <td>9</td>\n",
       "      <td>0.906977</td>\n",
       "    </tr>\n",
       "    <tr>\n",
       "      <th>9</th>\n",
       "      <td>10</td>\n",
       "      <td>0.962963</td>\n",
       "    </tr>\n",
       "    <tr>\n",
       "      <th>10</th>\n",
       "      <td>11</td>\n",
       "      <td>0.914286</td>\n",
       "    </tr>\n",
       "    <tr>\n",
       "      <th>11</th>\n",
       "      <td>12</td>\n",
       "      <td>0.947368</td>\n",
       "    </tr>\n",
       "    <tr>\n",
       "      <th>12</th>\n",
       "      <td>13</td>\n",
       "      <td>0.846154</td>\n",
       "    </tr>\n",
       "    <tr>\n",
       "      <th>13</th>\n",
       "      <td>14</td>\n",
       "      <td>0.833333</td>\n",
       "    </tr>\n",
       "    <tr>\n",
       "      <th>14</th>\n",
       "      <td>15</td>\n",
       "      <td>1.000000</td>\n",
       "    </tr>\n",
       "    <tr>\n",
       "      <th>15</th>\n",
       "      <td>16</td>\n",
       "      <td>1.000000</td>\n",
       "    </tr>\n",
       "    <tr>\n",
       "      <th>16</th>\n",
       "      <td>17</td>\n",
       "      <td>1.000000</td>\n",
       "    </tr>\n",
       "    <tr>\n",
       "      <th>17</th>\n",
       "      <td>18</td>\n",
       "      <td>1.000000</td>\n",
       "    </tr>\n",
       "    <tr>\n",
       "      <th>18</th>\n",
       "      <td>19</td>\n",
       "      <td>0.000000</td>\n",
       "    </tr>\n",
       "    <tr>\n",
       "      <th>19</th>\n",
       "      <td>20</td>\n",
       "      <td>1.000000</td>\n",
       "    </tr>\n",
       "  </tbody>\n",
       "</table>\n",
       "</div>"
      ],
      "text/plain": [
       "    token_count     label\n",
       "0             1  0.000000\n",
       "1             2  0.000000\n",
       "2             3  0.023256\n",
       "3             4  0.980000\n",
       "4             5  0.929825\n",
       "5             6  0.858696\n",
       "6             7  0.911392\n",
       "7             8  0.923077\n",
       "8             9  0.906977\n",
       "9            10  0.962963\n",
       "10           11  0.914286\n",
       "11           12  0.947368\n",
       "12           13  0.846154\n",
       "13           14  0.833333\n",
       "14           15  1.000000\n",
       "15           16  1.000000\n",
       "16           17  1.000000\n",
       "17           18  1.000000\n",
       "18           19  0.000000\n",
       "19           20  1.000000"
      ]
     },
     "execution_count": 54,
     "metadata": {},
     "output_type": "execute_result"
    },
    {
     "data": {
      "image/png": "[encoded data removed]",
      "text/plain": [
       "<Figure size 432x288 with 1 Axes>"
      ]
     },
     "metadata": {
      "needs_background": "light"
     },
     "output_type": "display_data"
    }
   ],
   "source": [
    "sns.barplot(x='token_count',y='label',data=addresses)\n",
    "addresses.groupby('token_count',as_index=False).label.mean()"
   ]
  },
  {
   "cell_type": "markdown",
   "id": "aa324a94",
   "metadata": {},
   "source": [
    "#### 3. Count of addresses completed based on token_count\n",
    "And as it was deduced, addresses with 3 or less tokens are likely to be incomplete, as they must only contain the name of the city."
   ]
  },
  {
   "cell_type": "code",
   "execution_count": 55,
   "id": "1a0b5d93",
   "metadata": {},
   "outputs": [
    {
     "data": {
      "image/png": "[encoded data removed]",
      "text/plain": [
       "<Figure size 432x288 with 1 Axes>"
      ]
     },
     "metadata": {
      "needs_background": "light"
     },
     "output_type": "display_data"
    }
   ],
   "source": [
    "g = sns.countplot(x='label', hue='token_count', data=addresses)\n",
    "g.legend_.remove()"
   ]
  },
  {
   "cell_type": "markdown",
   "id": "ccfdff7a",
   "metadata": {},
   "source": [
    "### 4. Analysis of Label feature\n",
    "In this case the label feature represents whether the address is complete or not."
   ]
  },
  {
   "cell_type": "markdown",
   "id": "14fdd901",
   "metadata": {},
   "source": [
    "#### 1. Count of the addresses completed\n",
    "And we can see that a little more than half of the addresses are complete."
   ]
  },
  {
   "cell_type": "code",
   "execution_count": 107,
   "id": "b32da9aa",
   "metadata": {},
   "outputs": [
    {
     "data": {
      "text/plain": [
       "0    529\n",
       "1    470\n",
       "Name: label, dtype: int64"
      ]
     },
     "execution_count": 107,
     "metadata": {},
     "output_type": "execute_result"
    },
    {
     "data": {
      "image/png": "[encoded data removed]",
      "text/plain": [
       "<Figure size 432x288 with 1 Axes>"
      ]
     },
     "metadata": {
      "needs_background": "light"
     },
     "output_type": "display_data"
    }
   ],
   "source": [
    "sns.countplot(x='label',data=addresses)\n",
    "addresses['label'].value_counts()"
   ]
  },
  {
   "cell_type": "markdown",
   "id": "c12673d0",
   "metadata": {},
   "source": [
    "## Model Building"
   ]
  },
  {
   "cell_type": "markdown",
   "id": "c516e41c",
   "metadata": {},
   "source": [
    "### 1. Setting the values for independent (X) variable and dependent (Y) variable"
   ]
  },
  {
   "cell_type": "code",
   "execution_count": 119,
   "id": "0788a740",
   "metadata": {},
   "outputs": [],
   "source": [
    "x = addresses.drop(['label', 'digits_group_count', 'separated_digits_group_count', 'comma_count', 'comma_separated_entities_having_numbers_near_words', 'comma_separated_entities_having_numbers'], axis=1)\n",
    "y = addresses.label"
   ]
  },
  {
   "cell_type": "markdown",
   "id": "6228c346",
   "metadata": {},
   "source": [
    "As previously chosen, we will use the length, digit_count and token_count features to train our model, excluding the other features."
   ]
  },
  {
   "cell_type": "code",
   "execution_count": 120,
   "id": "9e20c70a",
   "metadata": {},
   "outputs": [
    {
     "data": {
      "text/html": [
       "<div>\n",
       "<style scoped>\n",
       "    .dataframe tbody tr th:only-of-type {\n",
       "        vertical-align: middle;\n",
       "    }\n",
       "\n",
       "    .dataframe tbody tr th {\n",
       "        vertical-align: top;\n",
       "    }\n",
       "\n",
       "    .dataframe thead th {\n",
       "        text-align: right;\n",
       "    }\n",
       "</style>\n",
       "<table border=\"1\" class=\"dataframe\">\n",
       "  <thead>\n",
       "    <tr style=\"text-align: right;\">\n",
       "      <th></th>\n",
       "      <th>length</th>\n",
       "      <th>digit_count</th>\n",
       "      <th>token_count</th>\n",
       "    </tr>\n",
       "  </thead>\n",
       "  <tbody>\n",
       "    <tr>\n",
       "      <th>0</th>\n",
       "      <td>32</td>\n",
       "      <td>6</td>\n",
       "      <td>5</td>\n",
       "    </tr>\n",
       "    <tr>\n",
       "      <th>1</th>\n",
       "      <td>86</td>\n",
       "      <td>10</td>\n",
       "      <td>12</td>\n",
       "    </tr>\n",
       "    <tr>\n",
       "      <th>2</th>\n",
       "      <td>59</td>\n",
       "      <td>4</td>\n",
       "      <td>8</td>\n",
       "    </tr>\n",
       "    <tr>\n",
       "      <th>3</th>\n",
       "      <td>90</td>\n",
       "      <td>10</td>\n",
       "      <td>10</td>\n",
       "    </tr>\n",
       "    <tr>\n",
       "      <th>4</th>\n",
       "      <td>92</td>\n",
       "      <td>4</td>\n",
       "      <td>13</td>\n",
       "    </tr>\n",
       "    <tr>\n",
       "      <th>...</th>\n",
       "      <td>...</td>\n",
       "      <td>...</td>\n",
       "      <td>...</td>\n",
       "    </tr>\n",
       "    <tr>\n",
       "      <th>994</th>\n",
       "      <td>84</td>\n",
       "      <td>8</td>\n",
       "      <td>11</td>\n",
       "    </tr>\n",
       "    <tr>\n",
       "      <th>995</th>\n",
       "      <td>86</td>\n",
       "      <td>16</td>\n",
       "      <td>11</td>\n",
       "    </tr>\n",
       "    <tr>\n",
       "      <th>996</th>\n",
       "      <td>106</td>\n",
       "      <td>6</td>\n",
       "      <td>15</td>\n",
       "    </tr>\n",
       "    <tr>\n",
       "      <th>997</th>\n",
       "      <td>99</td>\n",
       "      <td>9</td>\n",
       "      <td>14</td>\n",
       "    </tr>\n",
       "    <tr>\n",
       "      <th>998</th>\n",
       "      <td>106</td>\n",
       "      <td>1</td>\n",
       "      <td>11</td>\n",
       "    </tr>\n",
       "  </tbody>\n",
       "</table>\n",
       "<p>999 rows × 3 columns</p>\n",
       "</div>"
      ],
      "text/plain": [
       "     length  digit_count  token_count\n",
       "0        32            6            5\n",
       "1        86           10           12\n",
       "2        59            4            8\n",
       "3        90           10           10\n",
       "4        92            4           13\n",
       "..      ...          ...          ...\n",
       "994      84            8           11\n",
       "995      86           16           11\n",
       "996     106            6           15\n",
       "997      99            9           14\n",
       "998     106            1           11\n",
       "\n",
       "[999 rows x 3 columns]"
      ]
     },
     "execution_count": 120,
     "metadata": {},
     "output_type": "execute_result"
    }
   ],
   "source": [
    "x"
   ]
  },
  {
   "cell_type": "markdown",
   "id": "9cf7ce8e",
   "metadata": {},
   "source": [
    "And separate the column that indicates whether an address is complete or not into an dependent variable (y) and the rest into a independent variable (x)."
   ]
  },
  {
   "cell_type": "code",
   "execution_count": 121,
   "id": "966c9f8c",
   "metadata": {},
   "outputs": [
    {
     "data": {
      "text/plain": [
       "0      1\n",
       "1      1\n",
       "2      1\n",
       "3      0\n",
       "4      1\n",
       "      ..\n",
       "994    1\n",
       "995    1\n",
       "996    1\n",
       "997    1\n",
       "998    1\n",
       "Name: label, Length: 999, dtype: int64"
      ]
     },
     "execution_count": 121,
     "metadata": {},
     "output_type": "execute_result"
    }
   ],
   "source": [
    "y"
   ]
  },
  {
   "cell_type": "markdown",
   "id": "b358ce61",
   "metadata": {},
   "source": [
    "### 2. Splitting the dataset"
   ]
  },
  {
   "cell_type": "code",
   "execution_count": 122,
   "id": "aa7e3e78",
   "metadata": {},
   "outputs": [],
   "source": [
    "from sklearn.model_selection import train_test_split\n",
    "\n",
    "X_train, X_test, y_train, y_test = train_test_split(X, y, test_size=0.2, random_state=42)"
   ]
  },
  {
   "cell_type": "markdown",
   "id": "7aabf484",
   "metadata": {},
   "source": [
    "We need to split our dataset into training and testing sets. We’ll perform this by importing train_test_split from the sklearn.model_selection library. And we will keep 20% of the data in our test dataset and the rest in our train dataset."
   ]
  },
  {
   "cell_type": "markdown",
   "id": "5972292a",
   "metadata": {},
   "source": [
    "### 3. Implementing and fitting  the Logistic Regression Model"
   ]
  },
  {
   "cell_type": "code",
   "execution_count": 130,
   "id": "355f57b9",
   "metadata": {},
   "outputs": [
    {
     "data": {
      "text/plain": [
       "LogisticRegression(max_iter=1000)"
      ]
     },
     "execution_count": 130,
     "metadata": {},
     "output_type": "execute_result"
    }
   ],
   "source": [
    "from sklearn.linear_model import LogisticRegression\n",
    "\n",
    "lr_model = LogisticRegression(solver='lbfgs', max_iter=1000)\n",
    "lr_model.fit(X_train, y_train)"
   ]
  },
  {
   "cell_type": "markdown",
   "id": "89022875",
   "metadata": {},
   "source": [
    "To build a logistic regression model, we need to create an instance of LogisticRegression() class and use x_train, y_train to train the model using the fit() method of that class."
   ]
  },
  {
   "cell_type": "markdown",
   "id": "c91873eb",
   "metadata": {},
   "source": [
    "### 4. Prediction on the test set"
   ]
  },
  {
   "cell_type": "code",
   "execution_count": 131,
   "id": "14773b28",
   "metadata": {},
   "outputs": [],
   "source": [
    "y_pred = lr_model.predict(X_test)"
   ]
  },
  {
   "cell_type": "markdown",
   "id": "dc9a2171",
   "metadata": {},
   "source": [
    "Predicted values:"
   ]
  },
  {
   "cell_type": "code",
   "execution_count": 132,
   "id": "b2eaf790",
   "metadata": {},
   "outputs": [
    {
     "data": {
      "text/plain": [
       "array([0, 1, 1, 0, 0, 0, 1, 0, 0, 1, 0, 0, 1, 0, 0, 1, 0, 0, 0, 1, 0, 0,\n",
       "       1, 1, 1, 1, 1, 1, 0, 0, 0, 0, 0, 0, 0, 1, 1, 0, 0, 0, 1, 0, 0, 0,\n",
       "       1, 0, 1, 0, 1, 1, 0, 0, 1, 1, 1, 0, 1, 0, 0, 0, 1, 0, 1, 0, 0, 0,\n",
       "       1, 0, 1, 0, 1, 1, 0, 1, 0, 0, 1, 0, 1, 0, 1, 0, 1, 0, 0, 0, 0, 0,\n",
       "       0, 0, 0, 0, 0, 0, 1, 1, 1, 0, 0, 1, 0, 0, 1, 1, 1, 0, 1, 0, 1, 1,\n",
       "       0, 1, 1, 1, 0, 0, 0, 0, 1, 1, 1, 1, 0, 1, 1, 0, 1, 1, 0, 1, 0, 1,\n",
       "       0, 1, 1, 0, 1, 1, 1, 1, 0, 1, 1, 1, 1, 1, 0, 1, 1, 0, 1, 0, 0, 1,\n",
       "       1, 1, 0, 0, 0, 0, 0, 0, 0, 1, 0, 0, 0, 0, 1, 1, 0, 1, 0, 1, 1, 1,\n",
       "       1, 0, 0, 0, 1, 1, 1, 0, 1, 0, 1, 0, 1, 1, 0, 0, 0, 1, 0, 1, 1, 1,\n",
       "       1, 0], dtype=int64)"
      ]
     },
     "execution_count": 132,
     "metadata": {},
     "output_type": "execute_result"
    }
   ],
   "source": [
    "y_pred"
   ]
  },
  {
   "cell_type": "markdown",
   "id": "d4b44ec0",
   "metadata": {},
   "source": [
    "Once we have fitted (trained) the model, we can make predictions using the predict() function. We pass the values of x_test to this method and compare the predicted values called y_pred with y_test values to check how accurate our predicted values are."
   ]
  },
  {
   "cell_type": "markdown",
   "id": "63906a31",
   "metadata": {},
   "source": [
    "### 5. Actual value and the predicted value"
   ]
  },
  {
   "cell_type": "code",
   "execution_count": 133,
   "id": "8a75ddcc",
   "metadata": {},
   "outputs": [
    {
     "data": {
      "text/html": [
       "<div>\n",
       "<style scoped>\n",
       "    .dataframe tbody tr th:only-of-type {\n",
       "        vertical-align: middle;\n",
       "    }\n",
       "\n",
       "    .dataframe tbody tr th {\n",
       "        vertical-align: top;\n",
       "    }\n",
       "\n",
       "    .dataframe thead th {\n",
       "        text-align: right;\n",
       "    }\n",
       "</style>\n",
       "<table border=\"1\" class=\"dataframe\">\n",
       "  <thead>\n",
       "    <tr style=\"text-align: right;\">\n",
       "      <th></th>\n",
       "      <th>Actual value</th>\n",
       "      <th>Predicted value</th>\n",
       "    </tr>\n",
       "  </thead>\n",
       "  <tbody>\n",
       "    <tr>\n",
       "      <th>453</th>\n",
       "      <td>0</td>\n",
       "      <td>0</td>\n",
       "    </tr>\n",
       "    <tr>\n",
       "      <th>793</th>\n",
       "      <td>1</td>\n",
       "      <td>1</td>\n",
       "    </tr>\n",
       "    <tr>\n",
       "      <th>209</th>\n",
       "      <td>0</td>\n",
       "      <td>1</td>\n",
       "    </tr>\n",
       "    <tr>\n",
       "      <th>309</th>\n",
       "      <td>0</td>\n",
       "      <td>0</td>\n",
       "    </tr>\n",
       "    <tr>\n",
       "      <th>740</th>\n",
       "      <td>0</td>\n",
       "      <td>0</td>\n",
       "    </tr>\n",
       "  </tbody>\n",
       "</table>\n",
       "</div>"
      ],
      "text/plain": [
       "     Actual value  Predicted value\n",
       "453             0                0\n",
       "793             1                1\n",
       "209             0                1\n",
       "309             0                0\n",
       "740             0                0"
      ]
     },
     "execution_count": 133,
     "metadata": {},
     "output_type": "execute_result"
    }
   ],
   "source": [
    "a = pd.DataFrame({'Actual value': y_test, 'Predicted value':y_pred})\n",
    "a.head()"
   ]
  },
  {
   "cell_type": "markdown",
   "id": "7f26cdc3",
   "metadata": {},
   "source": [
    "## Evaluating the Model"
   ]
  },
  {
   "cell_type": "markdown",
   "id": "bc5ee35d",
   "metadata": {},
   "source": [
    "### 1. Confusion matrix"
   ]
  },
  {
   "cell_type": "code",
   "execution_count": 134,
   "id": "d0e7fa9b",
   "metadata": {},
   "outputs": [
    {
     "data": {
      "text/plain": [
       "Text(0.5, 257.44, 'Predicted label')"
      ]
     },
     "execution_count": 134,
     "metadata": {},
     "output_type": "execute_result"
    },
    {
     "data": {
      "image/png": "[encoded data removed]",
      "text/plain": [
       "<Figure size 432x288 with 2 Axes>"
      ]
     },
     "metadata": {
      "needs_background": "light"
     },
     "output_type": "display_data"
    }
   ],
   "source": [
    "from sklearn.metrics import confusion_matrix\n",
    "\n",
    "cnf_matrix = confusion_matrix(y_test, y_pred)\n",
    "\n",
    "class_names=[0,1] # name  of classes\n",
    "fig, ax = plt.subplots()\n",
    "tick_marks = np.arange(len(class_names))\n",
    "plt.xticks(tick_marks, class_names)\n",
    "plt.yticks(tick_marks, class_names)\n",
    "\n",
    "# create heatmap\n",
    "sns.heatmap(pd.DataFrame(cnf_matrix), annot=True, cmap=\"YlGnBu\" ,fmt='g')\n",
    "ax.xaxis.set_label_position(\"top\")\n",
    "plt.tight_layout()\n",
    "plt.title('Confusion matrix', y=1.1)\n",
    "plt.ylabel('Actual label')\n",
    "plt.xlabel('Predicted label')"
   ]
  },
  {
   "cell_type": "markdown",
   "id": "a2e8b857",
   "metadata": {},
   "source": [
    "we will use a confusion matrix which is a table that is used to evaluate the performance of a classification model. The fundamental of a confusion matrix is the number of correct and incorrect predictions are summed up class-wise."
   ]
  },
  {
   "cell_type": "markdown",
   "id": "d733311c",
   "metadata": {},
   "source": [
    "### 2. Classification report"
   ]
  },
  {
   "cell_type": "markdown",
   "id": "d6c4759c",
   "metadata": {},
   "source": [
    "Let's evaluate the model using model evaluation metrics such as accuracy, precision, recall and f1-score."
   ]
  },
  {
   "cell_type": "code",
   "execution_count": 135,
   "id": "ca107256",
   "metadata": {},
   "outputs": [
    {
     "name": "stdout",
     "output_type": "stream",
     "text": [
      "Accuracy: 0.96\n",
      "Precision: 0.9368421052631579\n",
      "Recall: 0.978021978021978\n",
      "f1-score: 0.956989247311828\n"
     ]
    }
   ],
   "source": [
    "from sklearn import metrics\n",
    "\n",
    "print(\"Accuracy:\", metrics.accuracy_score(y_test, y_pred))\n",
    "print(\"Precision:\", metrics.precision_score(y_test, y_pred))\n",
    "print(\"Recall:\", metrics.recall_score(y_test, y_pred))\n",
    "print(\"f1-score:\", metrics.f1_score(y_test, y_pred))"
   ]
  },
  {
   "cell_type": "markdown",
   "id": "3a6ea26d",
   "metadata": {},
   "source": [
    "Accuracy: Accuracy represents the number of correctly classified data instances over the total number of data instances. The accuracy obtained from the classification report is 0.96, which indicates that the accuracy of the model is 96%.\n",
    "\n",
    "Precision: It is the number of correct positive results divided by the number of positive results predicted by the classifier. The precision obtained from the classification report is 0.94, which indicates that the precision of the model is 94%.\n",
    "\n",
    "Recall: Recall gives a measure of how accurately our model can identify the relevant data. The recall value obtained from the classification report is 0.98, which indicates that the model can identify 87% of the relevant data.\n",
    "\n",
    "f1-score: f1-Score is used to measure a test’s accuracy. The f1-score obtained from the classification report is 0.96, which indicates that the test accuracy is 96%."
   ]
  },
  {
   "cell_type": "markdown",
   "id": "a22338c2",
   "metadata": {},
   "source": [
    "### 3. ROC Curve"
   ]
  },
  {
   "cell_type": "code",
   "execution_count": 136,
   "id": "c9b5a8af",
   "metadata": {},
   "outputs": [
    {
     "data": {
      "image/png": "[encoded data removed]",
      "text/plain": [
       "<Figure size 432x288 with 1 Axes>"
      ]
     },
     "metadata": {
      "needs_background": "light"
     },
     "output_type": "display_data"
    },
    {
     "name": "stdout",
     "output_type": "stream",
     "text": [
      "auc: 0.9821050509123904\n"
     ]
    }
   ],
   "source": [
    "y_pred_proba = lr_model.predict_proba(X_test)[::,1]\n",
    "fpr, tpr, _ = metrics.roc_curve(y_test,  y_pred_proba)\n",
    "auc = metrics.roc_auc_score(y_test, y_pred_proba)\n",
    "plt.plot(fpr,tpr,label=\"data 1, auc=\"+str(auc))\n",
    "plt.legend(loc=4)\n",
    "plt.show()\n",
    "print(\"auc:\", auc)"
   ]
  },
  {
   "cell_type": "markdown",
   "id": "4eb8b624",
   "metadata": {},
   "source": [
    "Receiver Operating Characteristic(ROC) curve is a plot of the true positive rate against the false positive rate. Is a performance measurement for the classification problems at various threshold settings. ROC is a probability curve and AUC represents the degree or measure of separability. It tells how much the model is capable of distinguishing between classes. Higher the AUC, the better the model is at predicting between values of 0 and 1. \n",
    "which means our auc of 0.98 can be considered extremely good.\n"
   ]
  },
  {
   "cell_type": "markdown",
   "id": "08884447",
   "metadata": {},
   "source": [
    "## Conclusion"
   ]
  },
  {
   "cell_type": "markdown",
   "id": "b7c71d52",
   "metadata": {},
   "source": [
    "There were 999 records in the dataset, out of which 80% of the data was given for training the model and 20% of the data, i.e., 200 records, were given for testing the model. And out of 200 records, 8 records were misclassified. which means that we can consider our model to be quite good at classifying our addresses as complete or not."
   ]
  },
  {
   "cell_type": "code",
   "execution_count": null,
   "id": "bd382235",
   "metadata": {},
   "outputs": [],
   "source": []
  }
 ],
 "metadata": {
  "kernelspec": {
   "display_name": "Python 3 (ipykernel)",
   "language": "python",
   "name": "python3"
  },
  "language_info": {
   "codemirror_mode": {
    "name": "ipython",
    "version": 3
   },
   "file_extension": ".py",
   "mimetype": "text/x-python",
   "name": "python",
   "nbconvert_exporter": "python",
   "pygments_lexer": "ipython3",
   "version": "3.8.8"
  }
 },
 "nbformat": 4,
 "nbformat_minor": 5
}
