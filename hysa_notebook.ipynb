{
 "cells": [
  {
   "cell_type": "markdown",
   "id": "9f4ff432",
   "metadata": {},
   "source": [
    "# Naive Bayes Model - Gaussian"
   ]
  },
  {
   "cell_type": "markdown",
   "id": "80f60b0d",
   "metadata": {},
   "source": [
    "In this model, the data needs to be in integers, meaning numbers. As we already have all the data in numbers, from extracting useful information such as number of tokens, letters, digts etc, that was no need for treating the data.\n",
    "\n",
    "First we need to separate the features from the label. Features being the data that will be analized to train the model and the label, the classification."
   ]
  },
  {
   "cell_type": "code",
   "execution_count": 60,
   "id": "c466777f",
   "metadata": {},
   "outputs": [
    {
     "name": "stdout",
     "output_type": "stream",
     "text": [
      "\n",
      "Data:\n",
      "    length  digit_count  digits_group_count  token_count  comma_count  \\\n",
      "0      25            7                   2            4            1   \n",
      "1      37            7                   2            6            1   \n",
      "2      59           11                   3            9            3   \n",
      "3      76           11                   5            9            4   \n",
      "4      38            9                   2            7            2   \n",
      "5      65           12                   5            8            2   \n",
      "6      59           12                   5            7            3   \n",
      "7      64           11                   3            9            4   \n",
      "8      44            8                   2            6            2   \n",
      "9      67            6                   4            9            3   \n",
      "\n",
      "   comma_entities_numbers  comma_entities_numbers_words  \n",
      "0                       2                             2  \n",
      "1                       2                             2  \n",
      "2                       3                             2  \n",
      "3                       2                             1  \n",
      "4                       2                             1  \n",
      "5                       3                             3  \n",
      "6                       3                             2  \n",
      "7                       2                             1  \n",
      "8                       2                             2  \n",
      "9                       2                             2  \n",
      "\n",
      "Label:\n",
      " [1 1 1 0 1 0 0 0 1 0]\n"
     ]
    }
   ],
   "source": [
    "import numpy as np\n",
    "import pandas as pd\n",
    "\n",
    "words_info = pd.DataFrame({\n",
    "        'length': [25, 37, 59, 76, 38, 65, 59, 64, 44, 67],\n",
    "        'digit_count': [7, 7, 11, 11, 9, 12, 12, 11, 8, 6],\n",
    "        'digits_group_count': [2, 2, 3, 5, 2, 5, 5, 3, 2, 4],\n",
    "        'token_count': [4, 6, 9, 9, 7, 8, 7, 9, 6, 9],\n",
    "        'comma_count': [1, 1, 3, 4, 2, 2, 3, 4, 2, 3],\n",
    "        'comma_entities_numbers': [2, 2, 3, 2, 2, 3, 3, 2, 2, 2],\n",
    "        'comma_entities_numbers_words': [2, 2, 2, 1, 1, 3, 2, 1, 2, 2],\n",
    "        'label': [1, 1, 1, 0, 1, 0, 0, 0, 1, 0]\n",
    "    })\n",
    "\n",
    "#print('Info:\\n',words_info)\n",
    "data = words_info.drop(['label'], axis=1)\n",
    "label = np.array(words_info['label'])\n",
    "\n",
    "print('\\nData:\\n',data)\n",
    "print('\\nLabel:\\n',label)"
   ]
  },
  {
   "cell_type": "markdown",
   "id": "f739b504",
   "metadata": {},
   "source": [
    "With that settled, now its time for preparing and grouping the data, so it can be anylized by the model. The information needs to be grouped in tuples, such as (x,y,z), so we used the function intertuples() to do it."
   ]
  },
  {
   "cell_type": "code",
   "execution_count": 36,
   "id": "8129342a",
   "metadata": {},
   "outputs": [
    {
     "name": "stdout",
     "output_type": "stream",
     "text": [
      "Features:  [(25, 7, 2, 4, 1, 2, 2), (37, 7, 2, 6, 1, 2, 2), (59, 11, 3, 9, 3, 3, 2), (76, 11, 5, 9, 4, 2, 1), (38, 9, 2, 7, 2, 2, 1), (65, 12, 5, 8, 2, 3, 3), (59, 12, 5, 7, 3, 3, 2), (64, 11, 3, 9, 4, 2, 1), (44, 8, 2, 6, 2, 2, 2), (67, 6, 4, 9, 3, 2, 2)]\n"
     ]
    }
   ],
   "source": [
    "features = list(data.itertuples(index=False, name=None))\n",
    "print('Features: ', features)"
   ]
  },
  {
   "cell_type": "markdown",
   "id": "87cf4329",
   "metadata": {},
   "source": [
    "Now that the data is already prepared to be used, it's possible to train the model, creating a Naive Bayes model classifier and predict values from given features."
   ]
  },
  {
   "cell_type": "code",
   "execution_count": 54,
   "id": "58d67e66",
   "metadata": {},
   "outputs": [
    {
     "name": "stdout",
     "output_type": "stream",
     "text": [
      "62,7,3,8,2,2,2 =>  [1]\n",
      "62, ->3<- ,3,8,2,2,2 =>  [0]\n",
      "62,3,3, ->4<- ,2,2,2 =>  [1]\n"
     ]
    }
   ],
   "source": [
    "from sklearn.naive_bayes import GaussianNB\n",
    "\n",
    "model = GaussianNB()\n",
    "model.fit(features,label)\n",
    "\n",
    "predicted1 = model.predict([[62,7,3,8,2,2,2]])\n",
    "print('62,7,3,8,2,2,2 => ', predicted1)\n",
    "\n",
    "predicted2 = model.predict([[62,3,3,8,2,2,2]])\n",
    "print('62, ->3<- ,3,8,2,2,2 => ', predicted2)\n",
    "\n",
    "predicted3 = model.predict([[62,3,3,4,2,2,2]])\n",
    "print('62,3,3, ->4<- ,2,2,2 => ', predicted3)"
   ]
  },
  {
   "cell_type": "markdown",
   "id": "0d8e71a4",
   "metadata": {},
   "source": [
    "Seeing that the model works and responds to variations (remembering its a small set of data), we can now test how acurate the model is."
   ]
  },
  {
   "cell_type": "code",
   "execution_count": 57,
   "id": "333aef31",
   "metadata": {},
   "outputs": [
    {
     "name": "stdout",
     "output_type": "stream",
     "text": [
      "Precision: 50.00 | Recall: 33.33 | F1: 40.00\n"
     ]
    }
   ],
   "source": [
    "def get_precision_recall_f1(actual: list, predicted: list):\n",
    "    true_positives = 0\n",
    "    false_positives = 0\n",
    "    false_negatives = 0\n",
    "    \n",
    "    wrong = 0\n",
    "\n",
    "    for index, predictedVal in enumerate(predicted):\n",
    "        actualVal = actual[index]\n",
    "        if (actualVal and actualVal == predictedVal):\n",
    "            true_positives += 1\n",
    "        elif (predictedVal and actualVal != predictedVal):\n",
    "            false_positives += 1\n",
    "        elif (actualVal and actualVal != predictedVal):\n",
    "            false_negatives += 1\n",
    "    \n",
    "    precision = true_positives / max(true_positives + false_positives, 1)\n",
    "    recall = true_positives / max(true_positives + false_negatives, 1)\n",
    "    f1 = 2 * ((precision * recall) / (1 if precision + recall == 0 else precision + recall))\n",
    "        \n",
    "    return [el * 100 for el in [precision, recall, f1]]\n",
    "\n",
    "[precision, recall, f1] = get_precision_recall_f1([0,1,1,1,0], [1,1,0,0,0])\n",
    "\n",
    "print('Precision: {:.2f} | Recall: {:.2f} | F1: {:.2f}'.format(precision, recall, f1))"
   ]
  },
  {
   "cell_type": "code",
   "execution_count": 59,
   "id": "cd9972bc",
   "metadata": {},
   "outputs": [
    {
     "name": "stdout",
     "output_type": "stream",
     "text": [
      "For training data:\n",
      "Accuracy: 100.00 | Precision: 100.00 | Recall: 100.00 | F1: 100.00\n",
      "For test data:\n",
      "Accuracy: 66.67 | Precision: 100.00 | Recall: 50.00 | F1: 66.67\n"
     ]
    }
   ],
   "source": [
    "from sklearn.model_selection import train_test_split\n",
    "\n",
    "train_features, test_features, train_labels, test_labels = train_test_split(features, label, test_size=0.3, random_state=109)\n",
    "\n",
    "train_predictions = model.predict(train_features)\n",
    "train_accuracy = model.score(train_features, train_labels) * 100.0\n",
    "[train_precision, train_recall, train_f1] = get_precision_recall_f1(train_labels, train_predictions)\n",
    "\n",
    "test_predictions = model.predict(test_features)\n",
    "test_accuracy = model.score(test_features, test_labels) * 100.0\n",
    "[test_precision, test_recall, test_f1] = get_precision_recall_f1(test_labels, test_predictions)\n",
    "\n",
    "print('For training data:')\n",
    "print('Accuracy: {:.2f} | Precision: {:.2f} | Recall: {:.2f} | F1: {:.2f}'\n",
    "      .format(train_accuracy, train_precision, train_recall, train_f1))\n",
    "print('For test data:')\n",
    "print('Accuracy: {:.2f} | Precision: {:.2f} | Recall: {:.2f} | F1: {:.2f}'\n",
    "      .format(test_accuracy, test_precision, test_recall, test_f1))"
   ]
  }
 ],
 "metadata": {
  "kernelspec": {
   "display_name": "Python 3 (ipykernel)",
   "language": "python",
   "name": "python3"
  },
  "language_info": {
   "codemirror_mode": {
    "name": "ipython",
    "version": 3
   },
   "file_extension": ".py",
   "mimetype": "text/x-python",
   "name": "python",
   "nbconvert_exporter": "python",
   "pygments_lexer": "ipython3",
   "version": "3.8.8"
  }
 },
 "nbformat": 4,
 "nbformat_minor": 5
}
