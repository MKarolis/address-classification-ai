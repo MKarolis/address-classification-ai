{
 "cells": [
  {
   "cell_type": "markdown",
   "id": "09ca0cde",
   "metadata": {},
   "source": [
    "# Intructions for running the solution\n",
    "## Initial setup\n",
    "The solution depends on the following python packages:\n",
    "  - numpy\n",
    "  - pandas\n",
    "  - scikit-learn\n",
    "  - pydot\n",
    "  - openpyxl\n",
    "  - xlsxwriter\n",
    "You can either install them manually, or create a new Anaconda environment with all of them.\n",
    "### Anaconda setup\n",
    "1. Open Anaconda prompt in the directory of solution.\n",
    "2. Execute the following command, replace 'envName' with the environment name of your choice\n",
    "```shell\n",
    "conda env update -n envName -f deps.yaml\n",
    "```\n",
    "3. Activate new environment\n",
    "```shell\n",
    "conda activate envName\n",
    "```\n",
    "4. Run the scripts\n",
    "```shell\n",
    "python script.py\n",
    "```\n",
    "\n",
    "### Things to look out for\n",
    "If the script is run with the file `classified.xlsx` open, the program may fail."
   ]
  }
 ],
 "metadata": {
  "kernelspec": {
   "display_name": "Python 3 (ipykernel)",
   "language": "python",
   "name": "python3"
  },
  "language_info": {
   "codemirror_mode": {
    "name": "ipython",
    "version": 3
   },
   "file_extension": ".py",
   "mimetype": "text/x-python",
   "name": "python",
   "nbconvert_exporter": "python",
   "pygments_lexer": "ipython3",
   "version": "3.9.7"
  }
 },
 "nbformat": 4,
 "nbformat_minor": 5
}
